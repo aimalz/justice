{
 "cells": [
  {
   "cell_type": "markdown",
   "metadata": {},
   "source": [
    "# Max-value example kernel\n",
    "\n",
    "This example extracts windowed features, and then computes a soft value whether each point (in each band) is a local maxima."
   ]
  },
  {
   "cell_type": "code",
   "execution_count": null,
   "metadata": {},
   "outputs": [],
   "source": [
    "from matplotlib import pyplot as plt\n",
    "import numpy as np\n",
    "import pandas as pd\n",
    "import tensorflow as tf\n",
    "\n",
    "from justice import lightcurve\n",
    "from justice import visualize\n",
    "from justice.align_model import max_model_kernel\n",
    "from justice.datasets import plasticc_data\n",
    "from justice.features import per_point_dataset, raw_value_features, band_settings_params\n",
    "\n",
    "source = plasticc_data.PlasticcBcolzSource.get_default()\n",
    "lc, = plasticc_data.PlasticcDatasetLC.bcolz_get_lcs_by_obj_ids(\n",
    "    bcolz_source=source,\n",
    "    dataset=\"training_set\",\n",
    "    obj_ids=[1598]\n",
    ")"
   ]
  },
  {
   "cell_type": "code",
   "execution_count": null,
   "metadata": {},
   "outputs": [],
   "source": [
    "def model_fn(features, labels, mode, params):\n",
    "    predictions = max_model_kernel.feature_model_fn(features, params)\n",
    "    predictions['time'] = features['time']\n",
    "    return tf.estimator.EstimatorSpec(\n",
    "        mode=mode, predictions=predictions, loss=tf.constant(0.0), train_op=tf.no_op()\n",
    "    )\n",
    "\n",
    "\n",
    "window_size = 10\n",
    "rve = raw_value_features.RawValueExtractor(\n",
    "    window_size=window_size,\n",
    "    band_settings=band_settings_params.BandSettings(lc.expected_bands)\n",
    ")\n",
    "data_gen = per_point_dataset.PerPointDatasetGenerator(\n",
    "    extract_fcn=rve.extract,\n",
    "    batch_size=5,\n",
    ")\n",
    "\n",
    "estimator = tf.estimator.Estimator(\n",
    "    model_fn=model_fn,\n",
    "    params={\n",
    "        'batch_size': 5,\n",
    "        'window_size': window_size,\n",
    "        'flux_scale_epsilon': 0.5,\n",
    "        'lc_bands': lc.expected_bands,\n",
    "    }\n",
    ")\n",
    "predictions = list(data_gen.predict_single_lc(estimator, lc))"
   ]
  },
  {
   "cell_type": "code",
   "execution_count": null,
   "metadata": {},
   "outputs": [],
   "source": [
    "visualize.plot_lcs(lcs=[lc])\n",
    "\n",
    "for i, band in enumerate(lc.expected_bands):\n",
    "    times = [x['time'] for x in predictions]\n",
    "    is_max_fv = [x['is_max_soft'][i] for x in predictions]\n",
    "    plt.figure(figsize=(9.5, 2))\n",
    "    plt.scatter(times, is_max_fv)"
   ]
  }
 ],
 "metadata": {
  "kernelspec": {
   "display_name": "Python 3",
   "language": "python",
   "name": "python3"
  },
  "language_info": {
   "codemirror_mode": {
    "name": "ipython",
    "version": 3
   },
   "file_extension": ".py",
   "mimetype": "text/x-python",
   "name": "python",
   "nbconvert_exporter": "python",
   "pygments_lexer": "ipython3",
   "version": "3.6.6"
  }
 },
 "nbformat": 4,
 "nbformat_minor": 2
}
