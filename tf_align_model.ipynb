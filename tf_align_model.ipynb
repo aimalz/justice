{
 "cells": [
  {
   "cell_type": "markdown",
   "metadata": {},
   "source": [
    "# Max-value example kernel\n",
    "\n",
    "<span style=\"color: red;\">TODO: Integrate with better bcolz API once https://github.com/aimalz/justice/pull/75 is merged.</span>\n",
    "\n",
    "This example extracts windowed features, and then computes a soft value whether each point (in each band) is a local maxima."
   ]
  },
  {
   "cell_type": "code",
   "execution_count": null,
   "metadata": {},
   "outputs": [],
   "source": [
    "from matplotlib import pyplot as plt\n",
    "import numpy as np\n",
    "import pandas as pd\n",
    "import tensorflow as tf\n",
    "\n",
    "from justice import lightcurve\n",
    "from justice import visualize\n",
    "from justice.align_model import max_model_kernel\n",
    "from justice.datasets import plasticc_bcolz\n",
    "from justice.datasets import plasticc_data\n",
    "from justice.features import per_point_dataset, raw_value_features, band_settings_params\n",
    "\n",
    "bcolz_table = plasticc_bcolz.BcolzDataset(plasticc_bcolz._root_dir / \"training_set\"\n",
    "                                          ).read_table()\n",
    "bcolz_map = bcolz_table.where(\"object_id == 1598\")\n",
    "df = pd.DataFrame.from_records(bcolz_map, columns=bcolz_table.names)\n",
    "groupby = df.groupby(['object_id', 'passband'])\n",
    "all_raw_bands = {}\n",
    "for group in df.groupby(['object_id', 'passband']):\n",
    "    (object_id, passband), df_chunk = group\n",
    "    if object_id not in all_raw_bands:\n",
    "        all_raw_bands[object_id\n",
    "                      ] = [None] * len(plasticc_data.PlasticcDatasetLC.expected_bands)\n",
    "    all_raw_bands[object_id][passband] = lightcurve.BandData(\n",
    "        np.array(df_chunk['mjd']),\n",
    "        np.array(df_chunk['flux']),\n",
    "        np.array(df_chunk['flux_err']),\n",
    "        np.array(df_chunk['detected']),\n",
    "    )\n",
    "\n",
    "lcs = {}\n",
    "for object_id, bands in all_raw_bands.items():\n",
    "    assert None not in bands, \"If raw data is missing whole bands, then we have to rethink things\"\n",
    "    lcs[object_id] = plasticc_data.PlasticcDatasetLC(\n",
    "        **dict(zip(plasticc_data.PlasticcDatasetLC.expected_bands, bands))\n",
    "    )\n",
    "lc = lcs[1598]"
   ]
  },
  {
   "cell_type": "code",
   "execution_count": null,
   "metadata": {},
   "outputs": [],
   "source": [
    "def model_fn(features, labels, mode, params):\n",
    "    predictions = max_model_kernel.feature_model_fn(features, params)\n",
    "    predictions['time'] = features['time']\n",
    "    return tf.estimator.EstimatorSpec(\n",
    "        mode=mode, predictions=predictions, loss=tf.constant(0.0), train_op=tf.no_op()\n",
    "    )\n",
    "\n",
    "\n",
    "window_size = 10\n",
    "rve = raw_value_features.RawValueExtractor(\n",
    "    window_size=window_size,\n",
    "    band_settings=band_settings_params.BandSettings(lc.expected_bands)\n",
    ")\n",
    "data_gen = per_point_dataset.PerPointDatasetGenerator(\n",
    "    extract_fcn=rve.extract,\n",
    "    batch_size=5,\n",
    ")\n",
    "\n",
    "estimator = tf.estimator.Estimator(\n",
    "    model_fn=model_fn,\n",
    "    params={\n",
    "        'batch_size': 5,\n",
    "        'window_size': window_size,\n",
    "        'flux_scale_epsilon': 0.5,\n",
    "        'lc_bands': lc.expected_bands,\n",
    "    }\n",
    ")\n",
    "predictions = list(data_gen.predict_single_lc(estimator, lc))"
   ]
  },
  {
   "cell_type": "code",
   "execution_count": null,
   "metadata": {},
   "outputs": [],
   "source": [
    "visualize.plot_lcs(lcs=[lc])\n",
    "\n",
    "for i, band in enumerate(lc.expected_bands):\n",
    "    times = [x['time'] for x in predictions]\n",
    "    is_max_fv = [x['is_max_soft'][i] for x in predictions]\n",
    "    plt.figure(figsize=(9.5, 2))\n",
    "    plt.scatter(times, is_max_fv)"
   ]
  }
 ],
 "metadata": {
  "kernelspec": {
   "display_name": "Python 3",
   "language": "python",
   "name": "python3"
  },
  "language_info": {
   "codemirror_mode": {
    "name": "ipython",
    "version": 3
   },
   "file_extension": ".py",
   "mimetype": "text/x-python",
   "name": "python",
   "nbconvert_exporter": "python",
   "pygments_lexer": "ipython3",
   "version": "3.6.6"
  }
 },
 "nbformat": 4,
 "nbformat_minor": 2
}
