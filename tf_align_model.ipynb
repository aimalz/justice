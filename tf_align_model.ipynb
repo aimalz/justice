{
 "cells": [
  {
   "cell_type": "markdown",
   "metadata": {},
   "source": [
    "# Max-value example kernel\n",
    "\n",
    "This example extracts windowed features, and then computes a soft value whether each point (in each band) is a local maxima."
   ]
  },
  {
   "cell_type": "code",
   "execution_count": null,
   "metadata": {},
   "outputs": [],
   "source": [
    "from matplotlib import pyplot as plt\n",
    "import numpy as np\n",
    "import pandas as pd\n",
    "import tensorflow as tf\n",
    "\n",
    "from justice import lightcurve\n",
    "from justice import visualize\n",
    "from justice.align_model import max_model_kernel\n",
    "from justice.datasets import plasticc_data\n",
    "from justice.features import dense_extracted_features, per_point_dataset, raw_value_features, band_settings_params\n",
    "\n",
    "source = plasticc_data.PlasticcBcolzSource.get_default()\n",
    "lc, = plasticc_data.PlasticcDatasetLC.bcolz_get_lcs_by_obj_ids(\n",
    "    bcolz_source=source,\n",
    "    dataset=\"training_set\",\n",
    "    obj_ids=[1598]\n",
    ")"
   ]
  },
  {
   "cell_type": "code",
   "execution_count": null,
   "metadata": {
    "scrolled": false
   },
   "outputs": [],
   "source": [
    "def model_fn(features, labels, mode, params):\n",
    "    predictions = max_model_kernel.feature_model_fn(features, params)\n",
    "    predictions['time'] = features['time']\n",
    "    return tf.estimator.EstimatorSpec(\n",
    "        mode=mode, predictions=predictions, loss=tf.constant(0.0), train_op=tf.no_op()\n",
    "    )\n",
    "\n",
    "\n",
    "window_size = 10\n",
    "rve = raw_value_features.RawValueExtractor(\n",
    "    window_size=window_size,\n",
    "    band_settings=band_settings_params.BandSettings(lc.expected_bands)\n",
    ")\n",
    "data_gen = per_point_dataset.PerPointDatasetGenerator(\n",
    "    extract_fcn=rve.extract,\n",
    "    batch_size=5,\n",
    ")\n",
    "\n",
    "estimator = tf.estimator.Estimator(\n",
    "    model_fn=model_fn,\n",
    "    params={\n",
    "        'batch_size': 5,\n",
    "        'window_size': window_size,\n",
    "        'flux_scale_epsilon': 0.5,\n",
    "        'lc_bands': lc.expected_bands,\n",
    "    }\n",
    ")\n",
    "predictions = list(data_gen.predict_single_lc(estimator, lc))"
   ]
  },
  {
   "cell_type": "code",
   "execution_count": null,
   "metadata": {
    "scrolled": false
   },
   "outputs": [],
   "source": [
    "visualize.plot_lcs(lcs=[lc])\n",
    "\n",
    "for i, band in enumerate(lc.expected_bands):\n",
    "    times = [x['time'] for x in predictions]\n",
    "    is_max_fv = [x['is_max_soft'][i] for x in predictions]\n",
    "    plt.figure(figsize=(9.5, 2))\n",
    "    plt.scatter(times, is_max_fv)"
   ]
  },
  {
   "cell_type": "markdown",
   "metadata": {},
   "source": [
    "# Generate dense window features"
   ]
  },
  {
   "cell_type": "code",
   "execution_count": null,
   "metadata": {
    "scrolled": true
   },
   "outputs": [],
   "source": [
    "def model_fn(features, labels, mode, params):\n",
    "    band_settings = band_settings_params.BandSettings.from_params(params)\n",
    "    results = dense_extracted_features.feature_model_fn(features, params)\n",
    "    by_band = tf.unstack(results, axis=4)\n",
    "    predictions = {\n",
    "        band: tensor for band, tensor in zip(band_settings.bands, by_band)\n",
    "    }\n",
    "    predictions[\"time\"] = features[\"time\"]\n",
    "    return tf.estimator.EstimatorSpec(\n",
    "        mode=mode, predictions=predictions, loss=tf.constant(0.0), train_op=tf.no_op()\n",
    "    )\n",
    "\n",
    "window_size = 10\n",
    "rve = raw_value_features.RawValueExtractor(\n",
    "    window_size=window_size,\n",
    "    band_settings=band_settings_params.BandSettings(lc.expected_bands)\n",
    ")\n",
    "data_gen = per_point_dataset.PerPointDatasetGenerator(\n",
    "    extract_fcn=rve.extract,\n",
    "    batch_size=5,\n",
    ")\n",
    "\n",
    "estimator = tf.estimator.Estimator(\n",
    "    model_fn=model_fn,\n",
    "    params={\n",
    "        'batch_size': 5,\n",
    "        'window_size': window_size,\n",
    "        'flux_scale_epsilon': 0.5,\n",
    "        'lc_bands': lc.expected_bands,\n",
    "    }\n",
    ")\n",
    "predictions = list(data_gen.predict_single_lc(estimator, lc, arrays_to_list=False))"
   ]
  },
  {
   "cell_type": "code",
   "execution_count": null,
   "metadata": {
    "scrolled": false
   },
   "outputs": [],
   "source": [
    "array = predictions[100]['y']\n",
    "assert array.shape == (20, 3, 32)  # 2 * window_size, channels (dflux/dt, dflux, dtime), nbands\n",
    "print(\"At time \", predictions[100]['time'])\n",
    "plt.imshow(array[:, 2, :])"
   ]
  },
  {
   "cell_type": "markdown",
   "metadata": {},
   "source": [
    "# Generate histogram of dflux/dt values"
   ]
  },
  {
   "cell_type": "code",
   "execution_count": null,
   "metadata": {
    "scrolled": false
   },
   "outputs": [],
   "source": [
    "bcolz_source = plasticc_data.PlasticcBcolzSource.get_default()\n",
    "meta_table = bcolz_source.get_table('test_set_metadata')\n",
    "%time all_ids = meta_table['object_id'][:]"
   ]
  },
  {
   "cell_type": "code",
   "execution_count": null,
   "metadata": {
    "scrolled": true
   },
   "outputs": [],
   "source": [
    "%%time\n",
    "import random\n",
    "sample_ids = random.Random(828372).sample(list(all_ids), int(100))\n",
    "\n",
    "lcs = []\n",
    "_chunk_sz = 100\n",
    "for start in range(0, len(sample_ids), _chunk_sz):\n",
    "    lcs.extend(plasticc_data.PlasticcDatasetLC.bcolz_get_lcs_by_obj_ids(\n",
    "        bcolz_source=source,\n",
    "        dataset=\"test_set\",\n",
    "        obj_ids=sample_ids[start:start + _chunk_sz]\n",
    "    ))"
   ]
  },
  {
   "cell_type": "markdown",
   "metadata": {},
   "source": [
    "# Show number of bands present for each window length"
   ]
  },
  {
   "cell_type": "code",
   "execution_count": null,
   "metadata": {
    "scrolled": false
   },
   "outputs": [],
   "source": [
    "import collections\n",
    "for window in [1.0, 2.0, 4.0, 8.0, 16.0, 32.0, 64.0, 128.0]:\n",
    "    histogram = collections.Counter()\n",
    "    for lc in lcs:\n",
    "        times = lc.all_times_unique()\n",
    "        for time in times:\n",
    "            num_bands = len(lc.bands_sampled_in_region(time, window))\n",
    "            histogram[num_bands] += 1\n",
    "    print(f\"\\n For window = {window:.1f}\")\n",
    "    print(sorted(histogram.items()))"
   ]
  }
 ],
 "metadata": {
  "kernelspec": {
   "display_name": "Python 3",
   "language": "python",
   "name": "python3"
  },
  "language_info": {
   "codemirror_mode": {
    "name": "ipython",
    "version": 3
   },
   "file_extension": ".py",
   "mimetype": "text/x-python",
   "name": "python",
   "nbconvert_exporter": "python",
   "pygments_lexer": "ipython3",
   "version": "3.6.6"
  }
 },
 "nbformat": 4,
 "nbformat_minor": 2
}
