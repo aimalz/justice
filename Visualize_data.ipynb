{
 "cells": [
  {
   "cell_type": "code",
   "execution_count": null,
   "metadata": {},
   "outputs": [],
   "source": [
    "%matplotlib inline\n",
    "import pandas as pd\n",
    "import numpy as np\n",
    "import matplotlib.pyplot as plt"
   ]
  },
  {
   "cell_type": "markdown",
   "metadata": {},
   "source": [
    "## SNPhotCC data\n",
    "\n",
    "download from http://www.hep.anl.gov/SNchallenge/"
   ]
  },
  {
   "cell_type": "code",
   "execution_count": null,
   "metadata": {},
   "outputs": [],
   "source": [
    "from justice import supernova_data\n",
    "\n",
    "sn_dataset = supernova_data.SNDataset()\n",
    "sn_dataset.index_df[sn_dataset.index_df['type'] != -9].groupby('type').count()['id']"
   ]
  },
  {
   "cell_type": "code",
   "execution_count": null,
   "metadata": {
    "scrolled": false
   },
   "outputs": [],
   "source": [
    "colormap = {\n",
    "    'i': '#800000',\n",
    "    'r': '#ff6600',\n",
    "    'z': '#330000',\n",
    "    'g': '#00ff00',\n",
    "}\n",
    "for _ in range(3):\n",
    "    random_id, rows_and_data = sn_dataset.random_lc_all_flux(with_answers=True)\n",
    "    plt.figure(figsize=(20, 10))\n",
    "    plt.title(\"{}, type {}\".format(random_id, rows_and_data[0][0].type))\n",
    "    \n",
    "    for row, lc_data in rows_and_data:\n",
    "        # This dataset doesn't seem to have that many points, so larger markers are OK.\n",
    "        plt.errorbar(lc_data[:, 0], lc_data[:, 1], yerr=lc_data[:, 2], fmt='o', color=colormap[row.flt])"
   ]
  },
  {
   "cell_type": "markdown",
   "metadata": {},
   "source": [
    "## Data Visualization Workshop\n",
    "\n",
    "download from https://github.com/paztronomer/time_series_demo"
   ]
  },
  {
   "cell_type": "code",
   "execution_count": null,
   "metadata": {
    "scrolled": true
   },
   "outputs": [],
   "source": [
    "from justice import sample_data\n",
    "\n",
    "for name in sample_data.get_data_names():\n",
    "    original = sample_data.get_sample_data(name)\n",
    "    downsampled = sample_data.get_downsampled_data(name)\n",
    "    plt.figure(figsize=(20, 10))\n",
    "    plt.title(name)\n",
    "    plt.scatter(original[:, 0], original[:, 1], marker='.', s=1, color='#abb9d1')\n",
    "    plt.scatter(downsampled[:, 0], downsampled[:, 1], marker='o', s=40, color='#3c8e2d')"
   ]
  },
  {
   "cell_type": "markdown",
   "metadata": {},
   "source": [
    "## Gaia data\n",
    "\n",
    "download from https://datalab.noao.edu/"
   ]
  },
  {
   "cell_type": "code",
   "execution_count": null,
   "metadata": {
    "scrolled": false
   },
   "outputs": [],
   "source": [
    "import random\n",
    "from justice import noao_gaia_data\n",
    "\n",
    "rng = random.Random(329)\n",
    "index_array = noao_gaia_data.source_id_to_ranges_index.read()\n",
    "array = noao_gaia_data.all_lc_data.read()\n",
    "\n",
    "for _ in xrange(5):\n",
    "    random_id, min_idx, max_idx = rng.choice(index_array)\n",
    "    subsel = array[min_idx:(max_idx + 1)]\n",
    "    print(random_id, len(subsel))\n",
    "\n",
    "    plt.figure(figsize=(20, 10))\n",
    "    plt.title(str(random_id))\n",
    "    # This dataset doesn't seem to have that many points, so larger markers are OK.\n",
    "    plt.scatter(subsel[:, 0], subsel[:, 1], marker='o', s=40, color='#3c8e2d')"
   ]
  },
  {
   "cell_type": "code",
   "execution_count": null,
   "metadata": {
    "scrolled": false
   },
   "outputs": [],
   "source": [
    "# Print data with most points from GAIA.\n",
    "top_indices = np.argsort(index_array[:, 2] - index_array[:, 1])\n",
    "\n",
    "for index_array_index in top_indices[-5:]:\n",
    "    random_id, min_idx, max_idx = index_array[index_array_index]\n",
    "    subsel = array[min_idx:(max_idx + 1)]\n",
    "    print(random_id, len(subsel))\n",
    "\n",
    "    plt.figure(figsize=(20, 10))\n",
    "    plt.title(str(random_id))\n",
    "    # This dataset doesn't seem to have that many points, so larger markers are OK.\n",
    "    plt.scatter(subsel[:, 0], subsel[:, 1], marker='o', s=40, color='#3c8e2d')"
   ]
  },
  {
   "cell_type": "code",
   "execution_count": null,
   "metadata": {},
   "outputs": [],
   "source": []
  }
 ],
 "metadata": {
  "kernelspec": {
   "display_name": "Python 3",
   "language": "python3",
   "name": "python3"
  },
  "language_info": {
   "codemirror_mode": {
    "name": "ipython",
    "version": 3
   },
   "file_extension": ".py",
   "mimetype": "text/x-python",
   "name": "python",
   "nbconvert_exporter": "python",
   "pygments_lexer": "ipython3",
   "version": "3.6.5"
  }
 },
 "nbformat": 4,
 "nbformat_minor": 2
}
