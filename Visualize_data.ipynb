{
 "cells": [
  {
   "cell_type": "code",
   "execution_count": null,
   "metadata": {
    "scrolled": true
   },
   "outputs": [],
   "source": [
    "%matplotlib inline\n",
    "import pandas as pd\n",
    "import numpy as np\n",
    "import matplotlib.pyplot as plt"
   ]
  },
  {
   "cell_type": "markdown",
   "metadata": {},
   "source": [
    "# PLasTiCC data"
   ]
  },
  {
   "cell_type": "code",
   "execution_count": null,
   "metadata": {},
   "outputs": [],
   "source": [
    "from justice.datasets import plasticc_data\n",
    "from justice import visualize\n",
    "from justice.features import period_distribution\n",
    "training = plasticc_data.PlasticcDataset.training_data()\n",
    "lcs = plasticc_data.PlasticcDatasetLC.get_lcs_by_target(\"data/plasticc_training_data.db\",53, ddf=True)"
   ]
  },
  {
   "cell_type": "code",
   "execution_count": null,
   "metadata": {
    "scrolled": false
   },
   "outputs": [],
   "source": [
    "period_transform = period_distribution.MultiBandLs()\n",
    "for lc in np.random.choice(lcs, 1):\n",
    "    # NOTE: Add 'frequency_transform=frequency_distribution.MultiBandLs()' if desired.\n",
    "#     fig = visualize.plot_lcs([lc], plot_period=True, period_transform=period_distribution.MultiBandLs())\n",
    "    mbp = period_transform.apply(lc)\n",
    "    visualize.plot_lcs(lc)"
   ]
  },
  {
   "cell_type": "code",
   "execution_count": null,
   "metadata": {},
   "outputs": [],
   "source": [
    "period_best = mbp.best_period\n",
    "print(period_best)\n",
    "folded = lc.bands['r'].time % period_best\n",
    "print (folded)"
   ]
  },
  {
   "cell_type": "code",
   "execution_count": null,
   "metadata": {},
   "outputs": [],
   "source": [
    "mbp.plot('r')"
   ]
  },
  {
   "cell_type": "code",
   "execution_count": null,
   "metadata": {},
   "outputs": [],
   "source": [
    "plt.plot(folded, lc.bands['r'].flux, 'ok')"
   ]
  }
 ],
 "metadata": {
  "kernelspec": {
   "display_name": "Python 3",
   "language": "python",
   "name": "python3"
  },
  "language_info": {
   "codemirror_mode": {
    "name": "ipython",
    "version": 3
   },
   "file_extension": ".py",
   "mimetype": "text/x-python",
   "name": "python",
   "nbconvert_exporter": "python",
   "pygments_lexer": "ipython3",
   "version": "3.6.5"
  }
 },
 "nbformat": 4,
 "nbformat_minor": 2
}
