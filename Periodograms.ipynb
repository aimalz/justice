{
 "cells": [
  {
   "cell_type": "code",
   "execution_count": null,
   "metadata": {},
   "outputs": [],
   "source": [
    "import pandas as pd\n",
    "import numpy as np\n",
    "import matplotlib.pyplot as plt\n",
    "from matplotlib import cm\n",
    "from scipy import stats\n",
    "from sklearn.neighbors import KernelDensity"
   ]
  },
  {
   "cell_type": "code",
   "execution_count": null,
   "metadata": {},
   "outputs": [],
   "source": [
    "from justice.datasets import plasticc_data"
   ]
  },
  {
   "cell_type": "code",
   "execution_count": null,
   "metadata": {},
   "outputs": [],
   "source": [
    "periods = pd.read_csv('periodogram.csv', header=0, names=('id','ddf','target', 'period1','period2','period3','period4','period5','score1', 'score2', 'score3', 'score4', 'score5'))"
   ]
  },
  {
   "cell_type": "code",
   "execution_count": null,
   "metadata": {},
   "outputs": [],
   "source": [
    "periods"
   ]
  },
  {
   "cell_type": "code",
   "execution_count": null,
   "metadata": {},
   "outputs": [],
   "source": [
    "periods[['id','target']]"
   ]
  },
  {
   "cell_type": "code",
   "execution_count": null,
   "metadata": {},
   "outputs": [],
   "source": [
    "periods[periods['target']==6]\n",
    "\n",
    "tars = frozenset(periods['target'].unique())\n",
    "\n",
    "galactic = frozenset([16, 53, 6, 65, 92])\n",
    "extra = tars - galactic\n",
    "periodic = frozenset([16, 53, 65, 92, 88])\n",
    "transient = tars - periodic\n",
    "gperiodic = galactic&periodic\n",
    "gtransient = galactic&transient\n",
    "experiodic = extra&periodic\n",
    "etransient = extra&transient"
   ]
  },
  {
   "cell_type": "code",
   "execution_count": null,
   "metadata": {
    "scrolled": false
   },
   "outputs": [],
   "source": [
    "colordict = cm.tab20b\n",
    "_ = plt.hist([periods[periods['target']==tar]['period1'] for tar in tars], \n",
    "             bins=50, alpha=0.2, density=True, color=colordict.colors[:len(tars)], label=[str(tar) for tar in tars])\n",
    "plt.semilogx()\n",
    "plt.legend()"
   ]
  },
  {
   "cell_type": "code",
   "execution_count": null,
   "metadata": {
    "scrolled": false
   },
   "outputs": [],
   "source": [
    "colordict = cm.Set1\n",
    "for i, tar in enumerate(galactic):\n",
    "    plt.hist(periods[periods['target']==tar]['period1'], \n",
    "                         bins=50, alpha=0.8, density=True, color=colordict.colors[i], \n",
    "                 label=(str(tar)))\n",
    "# plt.semilogx()\n",
    "plt.legend()\n",
    "plt.ylim(0,.6)"
   ]
  },
  {
   "cell_type": "code",
   "execution_count": null,
   "metadata": {
    "scrolled": false
   },
   "outputs": [],
   "source": [
    "colordict = cm.tab20b\n",
    "_ = plt.hist([periods[periods['target']==tar]['period1'] for tar in tars], \n",
    "             bins=50, alpha=0.2, density=True, color=colordict.colors[:len(tars)], label=[str(tar) for tar in tars])\n",
    "plt.semilogx()\n",
    "plt.legend()"
   ]
  },
  {
   "cell_type": "code",
   "execution_count": null,
   "metadata": {},
   "outputs": [],
   "source": [
    "colordict = cm.Set2\n",
    "\n",
    "for i,tar in enumerate(galactic):\n",
    "#     values = np.array(periods[periods['target']==tar][['period1', \n",
    "    #'period2', 'period3', 'period4', 'period5']]).flatten()\n",
    "    values = np.array(periods[periods['target']==tar][['period1',]]).flatten()\n",
    "    positions = np.exp(np.linspace(np.log(0.1), np.log(1.e3), 50).reshape(-1, 1))\n",
    "#     assert(not np.any(np.isnan(positions)))\n",
    "    kde = KernelDensity(kernel='gaussian').fit(values.reshape(-1, 1))\n",
    "#     print(positions)\n",
    "    log_dens = kde.score_samples(positions)\n",
    "    plt.plot(positions, np.exp(log_dens), color=colordict.colors[i], alpha=0.7, label=str(tar))\n",
    "# plt.semilogx()\n",
    "plt.legend()\n",
    "plt.ylim(0,.0001)\n",
    "# plt.xlim(0., 5.0)"
   ]
  },
  {
   "cell_type": "code",
   "execution_count": null,
   "metadata": {},
   "outputs": [],
   "source": [
    "criteron = periods['target'].map(lambda x: x == 92)\n",
    "stats.describe(np.array(periods[criteron]['period1']))"
   ]
  },
  {
   "cell_type": "code",
   "execution_count": null,
   "metadata": {},
   "outputs": [],
   "source": [
    "lcs = plasticc_data.PlasticcDatasetLC.get_lcs_by_target(\"data/plasticc_training_data.db\",53, ddf=True)\n",
    "for lc in lcs:\n",
    "    print(lc.meta['object_id'])\n",
    "    print(np.any(periods['id']==133773))\n",
    "    print(periods[['id']==lc.meta['object_id']])\n",
    "    period_best = periods[['id'] ==lc.meta['object_id']][period1]\n",
    "    folded = lc.bands['r'].time % period_best\n"
   ]
  },
  {
   "cell_type": "code",
   "execution_count": null,
   "metadata": {},
   "outputs": [],
   "source": [
    "lcs = plasticc_data.PlasticcDatasetLC.get_lcs_by_target"
   ]
  },
  {
   "cell_type": "code",
   "execution_count": null,
   "metadata": {},
   "outputs": [],
   "source": []
  }
 ],
 "metadata": {
  "kernelspec": {
   "display_name": "Python 3",
   "language": "python",
   "name": "python3"
  },
  "language_info": {
   "codemirror_mode": {
    "name": "ipython",
    "version": 3
   },
   "file_extension": ".py",
   "mimetype": "text/x-python",
   "name": "python",
   "nbconvert_exporter": "python",
   "pygments_lexer": "ipython3",
   "version": "3.6.5"
  }
 },
 "nbformat": 4,
 "nbformat_minor": 2
}
