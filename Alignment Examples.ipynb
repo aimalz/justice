{
 "cells": [
  {
   "cell_type": "code",
   "execution_count": null,
   "metadata": {},
   "outputs": [],
   "source": [
    "%matplotlib inline\n",
    "import random\n",
    "\n",
    "import numpy as np\n",
    "\n",
    "from justice import affine_xform\n",
    "from justice import summarize\n",
    "from justice import supernova_data\n",
    "from justice import visualize"
   ]
  },
  {
   "cell_type": "code",
   "execution_count": null,
   "metadata": {},
   "outputs": [],
   "source": [
    "sn_dataset = supernova_data.SNDataset()\n",
    "df = sn_dataset.index_df[sn_dataset.index_df['type'] != -9]\n",
    "\n",
    "type_to_ids = {}\n",
    "for key, subframe in df.sort_values('type').groupby('type'):\n",
    "    type_to_ids.setdefault(key, [])\n",
    "    type_to_ids[key].extend(sorted(frozenset(subframe['id'].tolist())))"
   ]
  },
  {
   "cell_type": "code",
   "execution_count": null,
   "metadata": {},
   "outputs": [],
   "source": [
    "# Choose 2 random light curves of the same type.\n",
    "\n",
    "# The SN dataset generation may differ, so just hardcode the IDs for now.\n",
    "#\n",
    "# rng = random.Random(89794)\n",
    "# random_type = rng.choice(sorted(type_to_ids.keys()))\n",
    "# random_ids = rng.sample(type_to_ids[random_type], 2)\n",
    "random_type = 3\n",
    "random_ids = [35417, 13810]\n",
    "\n",
    "lca = supernova_data.format_dense_multi_band_from_lc_dict(\n",
    "    sn_dataset.lc_dict_for_id(random_ids[0])\n",
    ")\n",
    "lcb = supernova_data.format_dense_multi_band_from_lc_dict(\n",
    "    sn_dataset.lc_dict_for_id(random_ids[1])\n",
    ")\n",
    "lca = affine_xform.Aff(tx=-np.mean(lca.x)).transform(lca)\n",
    "lcb = affine_xform.Aff(tx=-np.mean(lcb.x)).transform(lcb)\n",
    "visualize.plot_single_lc_color_bands(\n",
    "    lca, \"{}, type {}\".format(random_ids[0], random_type)\n",
    ")\n",
    "visualize.plot_single_lc_color_bands(\n",
    "    lcb, \"{}, type {}\".format(random_ids[1], random_type)\n",
    ")\n",
    "None  # Here and below: Avoid plot showing up twice by setting cell return value to None."
   ]
  },
  {
   "cell_type": "code",
   "execution_count": null,
   "metadata": {},
   "outputs": [],
   "source": [
    "# Currently seems to yield disjoint curves.\n",
    "import importlib; importlib.reload(summarize)\n",
    "\n",
    "# Desired solution\n",
    "# aff = affine_xform.Aff(tx=50)\n",
    "aff = affine_xform.Aff()\n",
    "\n",
    "ivals = aff.as_array()\n",
    "overlap_cost_fcn = summarize.OverlapCostComponent(\n",
    "    np.array([1.0, 0.1, 0.05, 0.0]), 10.0)\n",
    "aff = summarize.opt_gp(\n",
    "    lca,\n",
    "    lcb,\n",
    "    ivals=ivals,\n",
    "    vb=False,\n",
    "    options={'maxiter': 15},\n",
    "    overlap_cost_fcn=overlap_cost_fcn,\n",
    ")\n",
    "visualize.plot_lcs([lca, affine_xform.transform(lcb, aff)])\n",
    "aff"
   ]
  }
 ],
 "metadata": {
  "kernelspec": {
   "display_name": "Python 3",
   "language": "python",
   "name": "python3"
  },
  "language_info": {
   "codemirror_mode": {
    "name": "ipython",
    "version": 3
   },
   "file_extension": ".py",
   "mimetype": "text/x-python",
   "name": "python",
   "nbconvert_exporter": "python",
   "pygments_lexer": "ipython3",
   "version": "3.6.6"
  }
 },
 "nbformat": 4,
 "nbformat_minor": 2
}
