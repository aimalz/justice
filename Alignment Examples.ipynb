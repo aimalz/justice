{
 "cells": [
  {
   "cell_type": "code",
   "execution_count": null,
   "metadata": {},
   "outputs": [],
   "source": [
    "%matplotlib inline\n",
    "import random\n",
    "\n",
    "import numpy as np\n",
    "\n",
    "from justice import xform\n",
    "from justice import summarize\n",
    "from justice import ogle_data\n",
    "from justice import visualize"
   ]
  },
  {
   "cell_type": "code",
   "execution_count": null,
   "metadata": {},
   "outputs": [],
   "source": [
    "cep_dataset = ogle_data.OgleDataset.read_for_name(\"cep\")\n",
    "df = cep_dataset.index_df\n",
    "\n",
    "type_to_ids = {}\n",
    "for key, subframe in df.sort_values('Subtype').groupby('Subtype'):\n",
    "    type_to_ids.setdefault(key, [])\n",
    "    type_to_ids[key].extend(sorted(frozenset(subframe.index.tolist())))"
   ]
  },
  {
   "cell_type": "code",
   "execution_count": null,
   "metadata": {},
   "outputs": [],
   "source": [
    "# Choose 2 random light curves of the same type.\n",
    "\n",
    "# The dataset generation may differ, so just hardcode the IDs for now.\n",
    "random_type = 'F1'\n",
    "random_ids = ['OGLE-LMC-CEP-0432', 'OGLE-LMC-CEP-0507']\n",
    "assert frozenset(random_ids) <= frozenset(type_to_ids[random_type])\n",
    "\n",
    "def load_for_id(random_id):\n",
    "    lc = cep_dataset.lc_for_id(random_id)\n",
    "    return lc.per_band_normalization(1000.0).transform(lc)\n",
    "\n",
    "lca = load_for_id(random_ids[0])\n",
    "lcb = load_for_id(random_ids[1])\n",
    "visualize.plot_single_lc_color_bands(\n",
    "    lca, \"{}, type {}\".format(random_ids[0], random_type)\n",
    ")\n",
    "visualize.plot_single_lc_color_bands(\n",
    "   lcb, \"{}, type {}\".format(random_ids[1], random_type)\n",
    ")\n",
    "None  # Here and below: Avoid plot showing up twice by setting cell return value to None."
   ]
  },
  {
   "cell_type": "code",
   "execution_count": null,
   "metadata": {},
   "outputs": [],
   "source": [
    "# Currently seems to yield disjoint curves.\n",
    "import importlib; importlib.reload(summarize)\n",
    "\n",
    "# Desired solution\n",
    "# aff = xform.Aff(tx=50)\n",
    "aff = xform.Aff()\n",
    "\n",
    "ivals = aff.as_array()\n",
    "overlap_cost_fcn = summarize.OverlapCostComponent(\n",
    "    np.array([1.0, 0.1, 0.05, 0.0]), 10.0)\n",
    "aff = summarize.opt_gp(\n",
    "    lca,\n",
    "    lcb,\n",
    "    ivals=ivals,\n",
    "    vb=False,\n",
    "    options={'maxiter': 15},\n",
    "    overlap_cost_fcn=overlap_cost_fcn,\n",
    ")\n",
    "visualize.plot_lcs([lca, xform.transform(lcb, aff)])\n",
    "aff"
   ]
  }
 ],
 "metadata": {
  "kernelspec": {
   "display_name": "Python 3",
   "language": "python",
   "name": "python3"
  },
  "language_info": {
   "codemirror_mode": {
    "name": "ipython",
    "version": 3
   },
   "file_extension": ".py",
   "mimetype": "text/x-python",
   "name": "python",
   "nbconvert_exporter": "python",
   "pygments_lexer": "ipython3",
   "version": "3.6.6"
  }
 },
 "nbformat": 4,
 "nbformat_minor": 2
}
