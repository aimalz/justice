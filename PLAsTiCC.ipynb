{
 "cells": [
  {
   "cell_type": "markdown",
   "metadata": {},
   "source": [
    "\n",
    "# Table of Contents\n",
    "\n",
    "1.  [Classes:](#org29a813e)\n",
    "    1.  [Galactic:](#org4b273fc)\n",
    "        1.  [16 (924) Periodic (technically) but in practice some may be transient in our data - we think it is an eclipsing binary](#org55802c3)\n",
    "        2.  [53 (30) Periodic (very), low time scale range, seems to be about a year? - probably a variable star of some sort - Mira variables probably](#org88b82c9)\n",
    "        3.  [6 (151) Transient, varying time scales, unknown what it actually is possibly nova of some sort](#orgb4fcfef)\n",
    "        4.  [65 (981) Periodic (sort of) (At least 2 year time scale, very very short burst) - Is it a flare? I really have no idea](#org676f839)\n",
    "        5.  [92 (239) Very periodic - Very short time scale (smaller than cadence) - \"Some kind of variable star\"](#orge9488ee)\n",
    "    2.  [Extragalactic:](#org42a8b71)\n",
    "        1.  [15 Transient - Maybe supernova - ramp up? weird.](#org9e8d5fa)\n",
    "        2.  [42 Transient - Some kind of supernova - not Ia](#orgfbfecf8)\n",
    "        3.  [52 Transient - idk](#orgdd32283)\n",
    "        4.  [62 Transient](#org17818a0)\n",
    "        5.  [64 Transient happens in only one band very short time scale emission line?](#orgd975edb)\n",
    "        6.  [67 Transient](#org1032894)\n",
    "        7.  [88 Periodic! finally I think it is an AGN](#org336f1fb)\n",
    "        8.  [90 Transient](#org0d56f34)\n",
    "        9.  [95 Transient - Not supernova??](#orgf4cb7b7)\n",
    "\n",
    "\n",
    "<a id=\"org29a813e\"></a>\n",
    "\n",
    "## Classes:\n",
    "\n",
    "\n",
    "<a id=\"org4b273fc\"></a>\n",
    "\n",
    "### Galactic:\n",
    "\n",
    "\n",
    "<a id=\"org55802c3\"></a>\n",
    "\n",
    " 16 (924) Periodic (technically) but in practice some may be transient in our data - we think it is an eclipsing binary\n",
    "\n",
    "\n",
    "<a id=\"org88b82c9\"></a>\n",
    "\n",
    " 53 (30) Periodic (very), low time scale range, seems to be about a year? - probably a variable star of some sort - Mira variables probably\n",
    "\n",
    "\n",
    "<a id=\"orgb4fcfef\"></a>\n",
    "\n",
    " 6 (151) Transient, varying time scales, unknown what it actually is possibly nova of some sort\n",
    "\n",
    "\n",
    "<a id=\"org676f839\"></a>\n",
    "\n",
    " 65 (981) Periodic (sort of) (At least 2 year time scale, very very short burst) - Is it a flare? I really have no idea\n",
    "\n",
    "\n",
    "<a id=\"orge9488ee\"></a>\n",
    "\n",
    " 92 (239) Very periodic - Very short time scale (smaller than cadence) - \"Some kind of variable star\"\n",
    "\n",
    "\n",
    "<a id=\"org42a8b71\"></a>\n",
    "\n",
    "### Extragalactic:\n",
    "\n",
    "\n",
    "<a id=\"org9e8d5fa\"></a>\n",
    "\n",
    " 15 Transient - Maybe supernova - ramp up? weird.\n",
    "\n",
    "\n",
    "<a id=\"orgfbfecf8\"></a>\n",
    "\n",
    " 42 Transient - Some kind of supernova - not Ia\n",
    "\n",
    "\n",
    "<a id=\"orgdd32283\"></a>\n",
    "\n",
    " 52 Transient - idk\n",
    "\n",
    "\n",
    "<a id=\"org17818a0\"></a>\n",
    "\n",
    " 62 Transient\n",
    "\n",
    "\n",
    "<a id=\"orgd975edb\"></a>\n",
    "\n",
    " 64 Transient happens in only one band very short time scale emission line?\n",
    "\n",
    "\n",
    "<a id=\"org1032894\"></a>\n",
    "\n",
    " 67 Transient\n",
    "\n",
    "\n",
    "<a id=\"org336f1fb\"></a>\n",
    "\n",
    " 88 Periodic! finally I think it is an AGN\n",
    "\n",
    "\n",
    "<a id=\"org0d56f34\"></a>\n",
    "\n",
    " 90 Transient\n",
    "\n",
    "\n",
    "<a id=\"orgf4cb7b7\"></a>\n",
    "\n",
    " 95 Transient - Not supernova??\n",
    "\n"
   ]
  },
  {
   "cell_type": "markdown",
   "metadata": {},
   "source": [
    "\n",
    "# Table of Contents\n",
    "\n",
    "1.  [Notes from 17 Oct:](#org23fbe57)\n",
    "\n",
    "\n",
    "<a id=\"org23fbe57\"></a>\n",
    "\n",
    "# Notes from 17 Oct:\n",
    "\n",
    "-   try things in log\n",
    "-   TODO visualize in log -> human readable!\n",
    "-   (our) preprocessing is good actually not yours\n",
    "-   Scale time units\n",
    "-   Measure of goodness given by optimization\n",
    "-   Merge weirdness? Plot weirdness?\n",
    "-   Apply ty -> Log -> Apply dy -> Exp\n",
    "\n"
   ]
  },
  {
   "cell_type": "code",
   "execution_count": null,
   "metadata": {},
   "outputs": [],
   "source": [
    "import numpy as np\n",
    "import scipy.stats as sps\n",
    "import scipy.optimize as spo\n",
    "import matplotlib.pyplot as plt\n",
    "import corner\n",
    "import sqlite3"
   ]
  },
  {
   "cell_type": "code",
   "execution_count": null,
   "metadata": {},
   "outputs": [],
   "source": [
    "from justice import simulate as sim\n",
    "from justice import summarize as summ\n",
    "from justice import visualize as vis\n",
    "from justice import xform\n",
    "from justice import lightcurve\n",
    "from justice.datasets import plasticc_data"
   ]
  },
  {
   "cell_type": "markdown",
   "metadata": {},
   "source": [
    "6, 16, 53, 65, 92"
   ]
  },
  {
   "cell_type": "code",
   "execution_count": null,
   "metadata": {
    "scrolled": false
   },
   "outputs": [],
   "source": [
    "for target_cls in [92]:\n",
    "    lcs = lightcurve.PlasticcDatasetLC.get_lc_by_target(\"data/plasticc_training_data.db\",target_cls)\n",
    "    print(str(target_cls))\n",
    "    for i in range(5):\n",
    "        curves = lcs[i]\n",
    "        fig = vis.plot_lcs(curves, title=target_cls, plot_period=True)"
   ]
  },
  {
   "cell_type": "code",
   "execution_count": null,
   "metadata": {
    "scrolled": false
   },
   "outputs": [],
   "source": [
    "curve1 = lcs[0]\n",
    "for curve2 in lcs[:25]:\n",
    "    twocurve = curve2\n",
    "    result = summ.opt_arclen(curve1, twocurve)\n",
    "    vis.plot_arclen_res(lcs[0], twocurve, result)\n",
    "    curve1 = curve1 + result.transform(twocurve)\n",
    "# onecurve = lcs[0]\n",
    "# twocurve = lcs[4]"
   ]
  },
  {
   "cell_type": "code",
   "execution_count": null,
   "metadata": {},
   "outputs": [],
   "source": [
    "vis.plot_lcs(curve1)"
   ]
  },
  {
   "cell_type": "code",
   "execution_count": null,
   "metadata": {},
   "outputs": [],
   "source": [
    "result = summ.opt_arclen(onecurve, twocurve)"
   ]
  },
  {
   "cell_type": "code",
   "execution_count": null,
   "metadata": {
    "scrolled": false
   },
   "outputs": [],
   "source": [
    "vis.plot_arclen_res(onecurve, twocurve, result)"
   ]
  },
  {
   "cell_type": "code",
   "execution_count": null,
   "metadata": {},
   "outputs": [],
   "source": [
    "# import george\n",
    "# from george import kernels\n",
    "\n",
    "# x = singlecurve.bands['g'].time[:25]\n",
    "# y = singlecurve.bands['g'].flux[:25]\n",
    "# yerr = singlecurve.bands['g'].flux_err[:25]\n",
    "\n",
    "# kernel = np.mean(yerr) * kernels.Matern32Kernel(500.0, ndim=1)#, axes=0)\n",
    "# gp = george.GP(kernel)\n",
    "# gp.compute(x, yerr)\n",
    "\n",
    "# x_pred = np.linspace(min(x)-10, max(x)+10, 500)\n",
    "# pred, pred_var = gp.predict(y, x_pred, return_var=True)\n",
    "\n",
    "# plt.fill_between(x_pred, pred - np.sqrt(pred_var)+100., pred + np.sqrt(pred_var)+100.,\n",
    "#                 color=\"k\", alpha=0.2)\n",
    "# plt.plot(x_pred, pred+100., \"k\", lw=1.5, alpha=0.5)\n",
    "# plt.errorbar(x, y+100., yerr=yerr, fmt=\".k\", capsize=0)\n",
    "# plt.xlabel(\"x\")\n",
    "# plt.ylabel(\"y\")\n",
    "# plt.semilogy()"
   ]
  }
 ],
 "metadata": {
  "kernelspec": {
   "display_name": "justice (Python 3)",
   "language": "python",
   "name": "justice_3"
  },
  "language_info": {
   "codemirror_mode": {
    "name": "ipython",
    "version": 3
   },
   "file_extension": ".py",
   "mimetype": "text/x-python",
   "name": "python",
   "nbconvert_exporter": "python",
   "pygments_lexer": "ipython3",
   "version": "3.6.5"
  }
 },
 "nbformat": 4,
 "nbformat_minor": 2
}
