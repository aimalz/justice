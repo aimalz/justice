{
 "cells": [
  {
   "cell_type": "code",
   "execution_count": null,
   "metadata": {},
   "outputs": [],
   "source": [
    "import numpy as np\n",
    "import scipy.stats as sps\n",
    "import scipy.optimize as spo\n",
    "import matplotlib.pyplot as plt\n",
    "import corner\n",
    "import sqlite3"
   ]
  },
  {
   "cell_type": "code",
   "execution_count": null,
   "metadata": {},
   "outputs": [],
   "source": [
    "from justice import simulate as sim\n",
    "from justice import summarize as summ\n",
    "from justice import visualize as vis\n",
    "from justice import xform\n",
    "from justice import lightcurve\n",
    "from justice.datasets import plasticc_data"
   ]
  },
  {
   "cell_type": "code",
   "execution_count": null,
   "metadata": {},
   "outputs": [],
   "source": [
    "lcs = lightcurve.PlasticcDatasetLC.get_lc_by_target(\"data/plasticc_training_data.db\",67)"
   ]
  },
  {
   "cell_type": "code",
   "execution_count": null,
   "metadata": {},
   "outputs": [],
   "source": [
    "singlecurve = lcs[50]"
   ]
  },
  {
   "cell_type": "code",
   "execution_count": null,
   "metadata": {},
   "outputs": [],
   "source": [
    "newxform = singlecurve.get_xform()"
   ]
  },
  {
   "cell_type": "code",
   "execution_count": null,
   "metadata": {},
   "outputs": [],
   "source": [
    "values = newxform.as_array()"
   ]
  },
  {
   "cell_type": "code",
   "execution_count": null,
   "metadata": {},
   "outputs": [],
   "source": [
    "values[0] = 300."
   ]
  },
  {
   "cell_type": "code",
   "execution_count": null,
   "metadata": {},
   "outputs": [],
   "source": [
    "# values"
   ]
  },
  {
   "cell_type": "code",
   "execution_count": null,
   "metadata": {},
   "outputs": [],
   "source": [
    "# from tensorflow.contrib.framework import nest"
   ]
  },
  {
   "cell_type": "code",
   "execution_count": null,
   "metadata": {},
   "outputs": [],
   "source": [
    "# generic_vals = [0., {b: 0. for b in singlecurve.expected_bands}, 1., {b: 1. for b in singlecurve.expected_bands}, 0.]\n",
    "# vals = nest.flatten(generic_vals)"
   ]
  },
  {
   "cell_type": "code",
   "execution_count": null,
   "metadata": {},
   "outputs": [],
   "source": [
    "# type(vals)"
   ]
  },
  {
   "cell_type": "code",
   "execution_count": null,
   "metadata": {
    "scrolled": true
   },
   "outputs": [],
   "source": [
    "newxform = singlecurve.get_xform(values)"
   ]
  },
  {
   "cell_type": "code",
   "execution_count": null,
   "metadata": {},
   "outputs": [],
   "source": [
    "twocurve = newxform.transform(singlecurve)"
   ]
  },
  {
   "cell_type": "code",
   "execution_count": null,
   "metadata": {},
   "outputs": [],
   "source": []
  },
  {
   "cell_type": "code",
   "execution_count": null,
   "metadata": {
    "scrolled": false
   },
   "outputs": [],
   "source": [
    "fig = vis.plot_lcs([singlecurve, twocurve])"
   ]
  },
  {
   "cell_type": "code",
   "execution_count": null,
   "metadata": {},
   "outputs": [],
   "source": [
    "result = summ.opt_arclen(singlecurve, twocurve)"
   ]
  },
  {
   "cell_type": "code",
   "execution_count": null,
   "metadata": {},
   "outputs": [],
   "source": [
    "vis.plot_arclen_res(singlecurve, twocurve, result)"
   ]
  },
  {
   "cell_type": "code",
   "execution_count": null,
   "metadata": {},
   "outputs": [],
   "source": [
    "result"
   ]
  },
  {
   "cell_type": "code",
   "execution_count": null,
   "metadata": {},
   "outputs": [],
   "source": [
    "singlecurve.bands['u'].flux"
   ]
  },
  {
   "cell_type": "code",
   "execution_count": null,
   "metadata": {},
   "outputs": [],
   "source": [
    "import george\n",
    "from george import kernels\n",
    "\n",
    "x = singlecurve.bands['g'].time[:25]\n",
    "y = singlecurve.bands['g'].flux[:25]\n",
    "yerr = singlecurve.bands['g'].flux_err[:25]\n",
    "\n",
    "kernel = np.mean(yerr) * kernels.Matern32Kernel(500.0, ndim=1)#, axes=0)\n",
    "gp = george.GP(kernel)\n",
    "gp.compute(x, yerr)\n",
    "\n",
    "x_pred = np.linspace(min(x)-10, max(x)+10, 500)\n",
    "pred, pred_var = gp.predict(y, x_pred, return_var=True)\n",
    "\n",
    "plt.fill_between(x_pred, pred - np.sqrt(pred_var)+100., pred + np.sqrt(pred_var)+100.,\n",
    "                color=\"k\", alpha=0.2)\n",
    "plt.plot(x_pred, pred+100., \"k\", lw=1.5, alpha=0.5)\n",
    "plt.errorbar(x, y+100., yerr=yerr, fmt=\".k\", capsize=0)\n",
    "plt.xlabel(\"x\")\n",
    "plt.ylabel(\"y\")\n",
    "plt.semilogy()"
   ]
  },
  {
   "cell_type": "code",
   "execution_count": null,
   "metadata": {},
   "outputs": [],
   "source": []
  }
 ],
 "metadata": {
  "kernelspec": {
   "display_name": "Python 3",
   "language": "python3",
   "name": "python3"
  },
  "language_info": {
   "codemirror_mode": {
    "name": "ipython",
    "version": 3
   },
   "file_extension": ".py",
   "mimetype": "text/x-python",
   "name": "python",
   "nbconvert_exporter": "python",
   "pygments_lexer": "ipython3",
   "version": "3.6.5"
  }
 },
 "nbformat": 4,
 "nbformat_minor": 2
}
