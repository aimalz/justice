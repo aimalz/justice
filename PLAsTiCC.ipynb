{
 "cells": [
  {
   "cell_type": "code",
   "execution_count": null,
   "metadata": {},
   "outputs": [],
   "source": [
    "import numpy as np\n",
    "import scipy.stats as sps\n",
    "import scipy.optimize as spo\n",
    "import matplotlib.pyplot as plt\n",
    "import corner\n",
    "import sqlite3"
   ]
  },
  {
   "cell_type": "code",
   "execution_count": null,
   "metadata": {},
   "outputs": [],
   "source": [
    "from justice import simulate as sim\n",
    "from justice import summarize as summ\n",
    "from justice import visualize as vis\n",
    "from justice import xform\n",
    "from justice import lightcurve\n",
    "from justice.integratedfilters import lsst_filter_integrals"
   ]
  },
  {
   "cell_type": "code",
   "execution_count": null,
   "metadata": {},
   "outputs": [],
   "source": [
    "path_to_db = \"data/training_data.db\"\n",
    "conn = sqlite3.connect(path_to_db)"
   ]
  },
  {
   "cell_type": "code",
   "execution_count": null,
   "metadata": {},
   "outputs": [],
   "source": [
    "lcs = lightcurve.PlasticcDatasetLC.get_lc_by_target(conn, 42)"
   ]
  },
  {
   "cell_type": "code",
   "execution_count": null,
   "metadata": {},
   "outputs": [],
   "source": [
    "c = conn.cursor()"
   ]
  },
  {
   "cell_type": "code",
   "execution_count": null,
   "metadata": {},
   "outputs": [],
   "source": [
    "filternames = 'ugrizy'\n",
    "\n",
    "filterdata = {}\n",
    "for i in filternames:\n",
    "    filterdata[i] = np.loadtxt('data/total_'+i+'.dat').T\n",
    "    \n",
    "lsst_filter_integrals = {}\n",
    "for i in filternames:\n",
    "    lsst_filter_integrals[i] = np.trapz(filterdata[i][1], filterdata[i][0])\n",
    "    plt.plot(filterdata[i][0], filterdata[i][1])\n",
    "plt.show()\n",
    "    \n",
    "for i in filternames:\n",
    "    lambda_ends = np.nonzero(filterdata[i][1])[0]\n",
    "#     print(lambda_ends)\n",
    "    lsst_filter_integrals[i] = np.trapz(filterdata[i][1], filterdata[i][0]) / float(filterdata[i][0][lambda_ends[-1]] - filterdata[i][0][lambda_ends[0]])\n",
    "    plt.plot(filterdata[i][0], np.divide(filterdata[i][1], lsst_filter_integrals[i]))\n",
    "plt.show()\n",
    "    \n",
    "# with open('justice/integratedfilters.py', 'w') as filterfile:\n",
    "#     filterfile.write(\"# from https://github.com/lsst/throughputs/tree/master/baseline \\n\")\n",
    "#     filterfile.write(\"lsst_filter_integrals = {}\".format(tfilterintegrals))"
   ]
  },
  {
   "cell_type": "code",
   "execution_count": null,
   "metadata": {
    "scrolled": false
   },
   "outputs": [],
   "source": [
    "fig = vis.plot_lcs(lcs[8])"
   ]
  },
  {
   "cell_type": "code",
   "execution_count": null,
   "metadata": {},
   "outputs": [],
   "source": [
    "for j in [lcs[8]]:\n",
    "    for i in 'ugrizy':\n",
    "        np.divide(j.bands[i].flux, lsst_filter_integrals[i], out=j.bands[i].flux)\n",
    "        np.divide(j.bands[i].flux_err, lsst_filter_integrals[i], out=j.bands[i].flux_err)"
   ]
  },
  {
   "cell_type": "code",
   "execution_count": null,
   "metadata": {},
   "outputs": [],
   "source": [
    "fig = vis.plot_lcs(lcs[8])"
   ]
  },
  {
   "cell_type": "code",
   "execution_count": null,
   "metadata": {},
   "outputs": [],
   "source": []
  }
 ],
 "metadata": {
  "kernelspec": {
   "display_name": "Python 3",
   "language": "python3",
   "name": "python3"
  },
  "language_info": {
   "codemirror_mode": {
    "name": "ipython",
    "version": 3
   },
   "file_extension": ".py",
   "mimetype": "text/x-python",
   "name": "python",
   "nbconvert_exporter": "python",
   "pygments_lexer": "ipython3",
   "version": "3.6.5"
  }
 },
 "nbformat": 4,
 "nbformat_minor": 2
}
